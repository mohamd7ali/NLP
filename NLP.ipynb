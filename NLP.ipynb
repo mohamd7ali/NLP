{
  "cells": [
    {
      "cell_type": "markdown",
      "source": [
        "# **Install Dependencies**"
      ],
      "metadata": {
        "id": "l7sNjyVnNnQD"
      },
      "id": "l7sNjyVnNnQD"
    },
    {
      "cell_type": "code",
      "source": [
        "!pip uninstall -y torch torchvision torchtext torchaudio"
      ],
      "metadata": {
        "id": "Mza76swhNj9P"
      },
      "id": "Mza76swhNj9P",
      "execution_count": null,
      "outputs": []
    },
    {
      "cell_type": "code",
      "source": [
        "!pip install torch==2.1.0+cu121 torchvision==0.16.0 torchaudio==2.1.0 --index-url https://download.pytorch.org/whl/cu121\n",
        "!pip install torchtext==0.16.0"
      ],
      "metadata": {
        "id": "LBNzz-u7Nlm3"
      },
      "id": "LBNzz-u7Nlm3",
      "execution_count": null,
      "outputs": []
    },
    {
      "cell_type": "code",
      "source": [
        "!pip install torchmetrics"
      ],
      "metadata": {
        "id": "y71sAkgdO9y6"
      },
      "id": "y71sAkgdO9y6",
      "execution_count": null,
      "outputs": []
    },
    {
      "cell_type": "code",
      "source": [
        "!pip install torchdata"
      ],
      "metadata": {
        "collapsed": true,
        "id": "nNUKHxfnO_2Q"
      },
      "id": "nNUKHxfnO_2Q",
      "execution_count": null,
      "outputs": []
    },
    {
      "cell_type": "markdown",
      "id": "94d6108c",
      "metadata": {
        "id": "94d6108c"
      },
      "source": [
        "---\n",
        "# **Import Library**"
      ]
    },
    {
      "cell_type": "code",
      "execution_count": 13,
      "id": "f80c2989",
      "metadata": {
        "id": "f80c2989"
      },
      "outputs": [],
      "source": [
        "import torch\n",
        "import torchtext"
      ]
    },
    {
      "cell_type": "code",
      "source": [
        "print(\"Torch version:\", torch.__version__)\n",
        "print(\"Torchtext version:\", torchtext.__version__)\n",
        "print(\"CUDA available:\", torch.cuda.is_available())\n"
      ],
      "metadata": {
        "colab": {
          "base_uri": "https://localhost:8080/"
        },
        "id": "TBTT35TPNtuU",
        "outputId": "bdd59d34-b3d1-478b-aa5d-d80f9a54413b"
      },
      "id": "TBTT35TPNtuU",
      "execution_count": 14,
      "outputs": [
        {
          "output_type": "stream",
          "name": "stdout",
          "text": [
            "Torch version: 2.1.0+cu121\n",
            "Torchtext version: 0.16.0+cpu\n",
            "CUDA available: False\n"
          ]
        }
      ]
    },
    {
      "cell_type": "markdown",
      "id": "2b98a5e3",
      "metadata": {
        "id": "2b98a5e3"
      },
      "source": [
        "---\n",
        "# **GPU**"
      ]
    },
    {
      "cell_type": "code",
      "execution_count": null,
      "id": "2ce858f3",
      "metadata": {
        "id": "2ce858f3",
        "outputId": "de4a29a4-d7ac-4673-cd5e-7b6bb7bb09b5"
      },
      "outputs": [
        {
          "name": "stdout",
          "output_type": "stream",
          "text": [
            "Thu Aug 14 18:03:08 2025       \n",
            "+-----------------------------------------------------------------------------------------+\n",
            "| NVIDIA-SMI 560.94                 Driver Version: 560.94         CUDA Version: 12.6     |\n",
            "|-----------------------------------------+------------------------+----------------------+\n",
            "| GPU  Name                  Driver-Model | Bus-Id          Disp.A | Volatile Uncorr. ECC |\n",
            "| Fan  Temp   Perf          Pwr:Usage/Cap |           Memory-Usage | GPU-Util  Compute M. |\n",
            "|                                         |                        |               MIG M. |\n",
            "|=========================================+========================+======================|\n",
            "|   0  NVIDIA GeForce RTX 3050 ...  WDDM  |   00000000:01:00.0 Off |                  N/A |\n",
            "| N/A   43C    P3             10W /   35W |       0MiB /   6144MiB |      0%      Default |\n",
            "|                                         |                        |                  N/A |\n",
            "+-----------------------------------------+------------------------+----------------------+\n",
            "                                                                                         \n",
            "+-----------------------------------------------------------------------------------------+\n",
            "| Processes:                                                                              |\n",
            "|  GPU   GI   CI        PID   Type   Process name                              GPU Memory |\n",
            "|        ID   ID                                                               Usage      |\n",
            "|=========================================================================================|\n",
            "|  No running processes found                                                             |\n",
            "+-----------------------------------------------------------------------------------------+\n"
          ]
        }
      ],
      "source": [
        "!nvidia-smi"
      ]
    },
    {
      "cell_type": "markdown",
      "id": "1b1b943b",
      "metadata": {
        "id": "1b1b943b"
      },
      "source": [
        "---\n",
        "# **Dataset**"
      ]
    },
    {
      "cell_type": "code",
      "execution_count": null,
      "id": "abf195fa",
      "metadata": {
        "id": "abf195fa"
      },
      "outputs": [],
      "source": []
    },
    {
      "cell_type": "markdown",
      "source": [
        "---\n",
        "# **Pre-Process**"
      ],
      "metadata": {
        "id": "__zm52ukXsWN"
      },
      "id": "__zm52ukXsWN"
    },
    {
      "cell_type": "markdown",
      "source": [
        "> ## Tokenizer\n",
        "\n"
      ],
      "metadata": {
        "id": "L7JhKRH8ZnRF"
      },
      "id": "L7JhKRH8ZnRF"
    },
    {
      "cell_type": "code",
      "source": [
        "from torchtext.data.utils import get_tokenizer\n",
        "tokenizer = get_tokenizer(\"basic_english\")"
      ],
      "metadata": {
        "id": "m3H-n-zwZl9g"
      },
      "id": "m3H-n-zwZl9g",
      "execution_count": 15,
      "outputs": []
    },
    {
      "cell_type": "code",
      "source": [
        "test_sentence = \"This is a test sentence.\"\n",
        "tokens = tokenizer(test_sentence)\n",
        "print(tokens)\n",
        "print(\"Number of tokens:\", len(tokens))"
      ],
      "metadata": {
        "id": "eVS1LJtWZ-oS",
        "outputId": "fdf50cec-0850-4bcc-9887-085e011615bb",
        "colab": {
          "base_uri": "https://localhost:8080/"
        }
      },
      "id": "eVS1LJtWZ-oS",
      "execution_count": 34,
      "outputs": [
        {
          "output_type": "stream",
          "name": "stdout",
          "text": [
            "['this', 'is', 'a', 'test', 'sentence', '.']\n",
            "Number of tokens: 6\n"
          ]
        }
      ]
    },
    {
      "cell_type": "code",
      "source": [
        "split = test_sentence.split()\n",
        "print(split)\n",
        "print(\"Number of split tokens:\", len(split))"
      ],
      "metadata": {
        "id": "LS4dap6MbLgG",
        "outputId": "bc7150e3-f60f-431d-911b-9bb86ea8d993",
        "colab": {
          "base_uri": "https://localhost:8080/"
        }
      },
      "id": "LS4dap6MbLgG",
      "execution_count": 36,
      "outputs": [
        {
          "output_type": "stream",
          "name": "stdout",
          "text": [
            "['This', 'is', 'a', 'test', 'sentence.']\n",
            "Number of split tokens: 5\n"
          ]
        }
      ]
    },
    {
      "cell_type": "markdown",
      "source": [
        "As the below Result shows, using the tokenizer ```basic_english``` can tokenize the text very well in comparison to command ```split``` that couldn't tokenize somthing like ., !, ?, ..."
      ],
      "metadata": {
        "id": "zsbXrTajbcYy"
      },
      "id": "zsbXrTajbcYy"
    },
    {
      "cell_type": "markdown",
      "source": [
        "> ## Vector"
      ],
      "metadata": {
        "id": "-Eoel5meZyGR"
      },
      "id": "-Eoel5meZyGR"
    },
    {
      "cell_type": "code",
      "source": [
        "from torchtext.vocab import GloVe\n",
        "from torchtext.vocab import build_vocab_from_iterator"
      ],
      "metadata": {
        "id": "JJMAWRzwZ07U"
      },
      "id": "JJMAWRzwZ07U",
      "execution_count": 25,
      "outputs": []
    },
    {
      "cell_type": "code",
      "source": [
        "vectorization = GloVe(name=\"6B\", dim=100)\n",
        "vectorization"
      ],
      "metadata": {
        "id": "HPEzQYf9cI4P",
        "outputId": "94a8ca38-2d93-4b45-b8db-befda8af0445",
        "colab": {
          "base_uri": "https://localhost:8080/"
        }
      },
      "id": "HPEzQYf9cI4P",
      "execution_count": 26,
      "outputs": [
        {
          "output_type": "stream",
          "name": "stderr",
          "text": [
            ".vector_cache/glove.6B.zip: 862MB [02:40, 5.39MB/s]                           \n",
            "100%|█████████▉| 399999/400000 [00:20<00:00, 19231.06it/s]\n"
          ]
        },
        {
          "output_type": "execute_result",
          "data": {
            "text/plain": [
              "<torchtext.vocab.vectors.GloVe at 0x7a671fcc0d90>"
            ]
          },
          "metadata": {},
          "execution_count": 26
        }
      ]
    },
    {
      "cell_type": "code",
      "source": [
        "vectorization.get_vecs_by_tokens(tokens)"
      ],
      "metadata": {
        "id": "hMlxbPGkcgeW",
        "outputId": "547c4e0b-2c1c-4d07-944a-c5b851ef0eeb",
        "colab": {
          "base_uri": "https://localhost:8080/"
        }
      },
      "id": "hMlxbPGkcgeW",
      "execution_count": 27,
      "outputs": [
        {
          "output_type": "execute_result",
          "data": {
            "text/plain": [
              "tensor([[-5.7058e-01,  4.4183e-01,  7.0102e-01, -4.1713e-01, -3.4058e-01,\n",
              "          2.3390e-02, -7.1537e-02,  4.8177e-01, -1.3121e-02,  1.6834e-01,\n",
              "         -1.3389e-01,  4.0626e-02,  1.5827e-01, -4.4342e-01, -1.9403e-02,\n",
              "         -9.6610e-03, -4.6284e-02,  9.3228e-02, -2.7331e-01,  2.2850e-01,\n",
              "          3.3089e-01, -3.6474e-01,  7.8741e-02,  3.5850e-01,  4.4757e-01,\n",
              "         -2.2990e-01,  1.8077e-01, -6.2650e-01,  5.3852e-02, -2.9154e-01,\n",
              "         -4.2560e-01,  6.2903e-01,  1.4393e-01, -4.6004e-02, -2.1007e-01,\n",
              "          4.8879e-01, -5.7698e-02,  3.7431e-01, -3.0075e-02, -3.4494e-01,\n",
              "         -2.9702e-01,  1.5095e-01,  2.8248e-01, -1.6578e-01,  7.6131e-02,\n",
              "         -9.3016e-02,  7.9365e-01, -6.0489e-01, -1.8874e-01, -1.0173e+00,\n",
              "          3.1962e-01, -1.6344e-01,  5.4177e-01,  1.1725e+00, -4.7875e-01,\n",
              "         -3.3842e+00, -8.1301e-02, -3.5280e-01,  1.8372e+00,  4.4516e-01,\n",
              "         -5.2666e-01,  9.9786e-01, -3.2178e-01,  3.3462e-02,  1.1783e+00,\n",
              "         -7.2905e-02,  3.9737e-01,  2.6166e-01,  3.3111e-01, -3.5629e-01,\n",
              "         -1.6558e-01, -4.4382e-01, -1.4183e-01, -3.7976e-01,  2.8994e-01,\n",
              "         -2.9114e-02, -3.5169e-01, -2.7694e-01, -1.3440e+00,  1.9555e-01,\n",
              "          1.6887e-01,  4.0237e-02, -8.0212e-01,  2.3366e-01, -1.3837e+00,\n",
              "         -2.3132e-02,  8.5395e-02, -7.4051e-01, -7.3934e-02, -5.8838e-01,\n",
              "         -8.5735e-02, -1.0525e-01, -5.1571e-01,  1.5038e-01, -1.6694e-01,\n",
              "         -1.6372e-01, -2.2702e-01, -6.6102e-01,  4.7197e-01,  3.7253e-01],\n",
              "        [-5.4264e-01,  4.1476e-01,  1.0322e+00, -4.0244e-01,  4.6691e-01,\n",
              "          2.1816e-01, -7.4864e-02,  4.7332e-01,  8.0996e-02, -2.2079e-01,\n",
              "         -1.2808e-01, -1.1440e-01,  5.0891e-01,  1.1568e-01,  2.8211e-02,\n",
              "         -3.6280e-01,  4.3823e-01,  4.7511e-02,  2.0282e-01,  4.9857e-01,\n",
              "         -1.0068e-01,  1.3269e-01,  1.6972e-01,  1.1653e-01,  3.1355e-01,\n",
              "          2.5713e-01,  9.2783e-02, -5.6826e-01, -5.2975e-01, -5.1456e-02,\n",
              "         -6.7326e-01,  9.2533e-01,  2.6930e-01,  2.2734e-01,  6.6365e-01,\n",
              "          2.6221e-01,  1.9719e-01,  2.6090e-01,  1.8774e-01, -3.4540e-01,\n",
              "         -4.2635e-01,  1.3975e-01,  5.6338e-01, -5.6907e-01,  1.2398e-01,\n",
              "         -1.2894e-01,  7.2484e-01, -2.6105e-01, -2.6314e-01, -4.3605e-01,\n",
              "          7.8908e-02, -8.4146e-01,  5.1595e-01,  1.3997e+00, -7.6460e-01,\n",
              "         -3.1453e+00, -2.9202e-01, -3.1247e-01,  1.5129e+00,  5.2435e-01,\n",
              "          2.1456e-01,  4.2452e-01, -8.8411e-02, -1.7805e-01,  1.1876e+00,\n",
              "          1.0579e-01,  7.6571e-01,  2.1914e-01,  3.5824e-01, -1.1636e-01,\n",
              "          9.3261e-02, -6.2483e-01, -2.1898e-01,  2.1796e-01,  7.4056e-01,\n",
              "         -4.3735e-01,  1.4343e-01,  1.4719e-01, -1.1605e+00, -5.0508e-02,\n",
              "          1.2677e-01, -1.4395e-02, -9.8676e-01, -9.1297e-02, -1.2054e+00,\n",
              "         -1.1974e-01,  4.7847e-02, -5.4001e-01,  5.2457e-01, -7.0963e-01,\n",
              "         -3.2528e-01, -1.3460e-01, -4.1314e-01,  3.3435e-01, -7.2412e-03,\n",
              "          3.2253e-01, -4.4219e-02, -1.2969e+00,  7.6217e-01,  4.6349e-01],\n",
              "        [-2.7086e-01,  4.4006e-02, -2.0260e-02, -1.7395e-01,  6.4440e-01,\n",
              "          7.1213e-01,  3.5510e-01,  4.7138e-01, -2.9637e-01,  5.4427e-01,\n",
              "         -7.2294e-01, -4.7612e-03,  4.0611e-02,  4.3236e-02,  2.9729e-01,\n",
              "          1.0725e-01,  4.0156e-01, -5.3662e-01,  3.3382e-02,  6.7396e-02,\n",
              "          6.4556e-01, -8.5523e-02,  1.4103e-01,  9.4539e-02,  7.4947e-01,\n",
              "         -1.9400e-01, -6.8739e-01, -4.1741e-01, -2.2807e-01,  1.2000e-01,\n",
              "         -4.8999e-01,  8.0945e-01,  4.5138e-02, -1.1898e-01,  2.0161e-01,\n",
              "          3.9276e-01, -2.0121e-01,  3.1354e-01,  7.5304e-01,  2.5907e-01,\n",
              "         -1.1566e-01, -2.9319e-02,  9.3499e-01, -3.6067e-01,  5.2420e-01,\n",
              "          2.3706e-01,  5.2715e-01,  2.2869e-01, -5.1958e-01, -7.9349e-01,\n",
              "         -2.0368e-01, -5.0187e-01,  1.8748e-01,  9.4282e-01, -4.4834e-01,\n",
              "         -3.6792e+00,  4.4183e-02, -2.6751e-01,  2.1997e+00,  2.4100e-01,\n",
              "         -3.3425e-02,  6.9553e-01, -6.4472e-01, -7.2277e-03,  8.9575e-01,\n",
              "          2.0015e-01,  4.6493e-01,  6.1933e-01, -1.0660e-01,  8.6910e-02,\n",
              "         -4.6230e-01,  1.8262e-01, -1.5849e-01,  2.0791e-02,  1.9373e-01,\n",
              "          6.3426e-02, -3.1673e-01, -4.8177e-01, -1.3848e+00,  1.3669e-01,\n",
              "          9.6859e-01,  4.9965e-02, -2.7380e-01, -3.5686e-02, -1.0577e+00,\n",
              "         -2.4467e-01,  9.0366e-01, -1.2442e-01,  8.0776e-02, -8.3401e-01,\n",
              "          5.7201e-01,  8.8945e-02, -4.2532e-01, -1.8253e-02, -7.9995e-02,\n",
              "         -2.8581e-01, -1.0890e-02, -4.9230e-01,  6.3687e-01,  2.3642e-01],\n",
              "        [-5.8342e-01,  4.8631e-01,  7.4230e-01,  1.7875e-01, -1.5873e+00,\n",
              "         -3.7499e-01,  3.7902e-01,  7.0767e-01, -1.5402e+00,  7.4851e-01,\n",
              "         -6.9018e-03, -4.4981e-01, -1.1125e-01,  1.7395e-01,  2.6005e-01,\n",
              "          2.7065e-01,  7.8731e-01,  8.4877e-01, -9.9277e-02,  1.7688e-02,\n",
              "          4.4389e-01, -8.7300e-01,  4.9640e-01, -1.8430e-01,  2.4894e-01,\n",
              "          2.4073e-01,  8.4460e-02,  7.0786e-02, -2.3216e-01,  2.6685e-01,\n",
              "         -2.3519e-01,  4.5211e-01, -3.9982e-01,  2.4936e-01,  7.3548e-01,\n",
              "         -7.2352e-02, -8.1008e-01, -1.5256e-01, -1.0313e+00,  2.3067e-01,\n",
              "         -1.1634e+00,  2.0387e-01,  4.2369e-01, -1.0589e+00,  2.9905e-01,\n",
              "          2.0036e-01,  6.3371e-01, -5.7507e-01, -4.3730e-01, -5.5908e-01,\n",
              "          5.0811e-01,  3.2673e-01, -4.3710e-01,  1.0702e+00, -1.0418e-01,\n",
              "         -2.4432e+00, -1.0739e+00,  1.0881e-01,  1.5446e+00, -1.5633e-01,\n",
              "         -3.7779e-01,  1.5111e-01,  5.8397e-01,  5.4980e-01,  2.3775e-01,\n",
              "          8.8690e-01, -1.0220e-01, -4.1313e-02, -1.9496e-01, -1.3760e-01,\n",
              "         -1.3191e-04,  6.9490e-01,  6.6230e-02, -2.5647e-01, -1.0539e-01,\n",
              "          5.6950e-01,  1.7414e-01, -5.9899e-01, -8.6757e-01, -3.1254e-01,\n",
              "          5.4560e-01, -9.2359e-02, -1.2294e-01, -1.9419e-01, -1.9168e+00,\n",
              "         -4.4395e-02,  6.8561e-01,  2.0030e-01, -3.7791e-01,  6.7436e-01,\n",
              "         -7.7218e-01,  4.9596e-01,  5.8190e-03,  5.3833e-01,  3.3367e-01,\n",
              "          9.7822e-01,  3.1984e-01, -1.2619e-01, -1.7724e-02,  1.8389e-01],\n",
              "        [ 6.1920e-01,  1.4650e-01, -8.5925e-02, -2.6298e-01,  7.8439e-01,\n",
              "          8.8508e-01, -3.2910e-01,  4.9896e-01, -7.9062e-01,  1.0131e+00,\n",
              "         -8.8145e-01,  1.3584e+00, -6.6751e-01,  4.2515e-01,  5.0281e-01,\n",
              "         -8.9359e-02, -4.9863e-01, -8.3455e-01, -7.4469e-01,  3.4275e-01,\n",
              "          2.9674e-01, -7.1928e-01, -1.6707e-01,  4.0454e-01,  3.8765e-01,\n",
              "          6.2356e-01, -7.9742e-02, -8.4977e-01, -4.1216e-02,  7.3005e-01,\n",
              "          6.0823e-01, -1.6954e-02, -3.5062e-01, -7.6393e-01, -2.7945e-01,\n",
              "          3.5849e-01,  1.2919e-01, -6.3486e-01,  1.0818e-02, -2.5926e-01,\n",
              "         -3.5931e-01, -3.2015e-01,  1.2141e+00, -2.5545e-01,  3.5797e-01,\n",
              "          1.6637e-01,  1.0474e+00, -1.3668e+00, -1.1174e-01, -1.3239e-01,\n",
              "          9.8993e-01, -1.1606e+00,  5.6178e-01,  1.4242e+00, -7.0644e-01,\n",
              "         -5.1683e-01, -8.7395e-02, -6.2826e-01,  1.7740e+00,  5.8555e-01,\n",
              "         -1.3339e-01, -1.5930e-01, -7.4275e-01, -1.0585e+00,  9.1011e-01,\n",
              "         -4.9966e-01,  3.9680e-01,  6.2120e-01, -1.4312e+00,  3.3652e-01,\n",
              "          2.2723e-01,  1.3312e-01,  4.9876e-01,  3.4991e-01,  3.2350e-01,\n",
              "          7.3083e-01, -9.4294e-02, -8.7917e-01, -4.0376e-01, -4.0543e-01,\n",
              "          5.1081e-01, -5.1537e-01, -5.7041e-01, -8.1079e-01, -1.5331e+00,\n",
              "          1.2919e-01,  8.8052e-02, -7.3564e-01,  9.6530e-02, -3.5566e-01,\n",
              "         -2.5717e-01, -3.3758e-01, -2.4789e-01, -2.4340e-01,  8.8116e-01,\n",
              "          1.1735e-01,  5.6470e-01, -2.5014e-01, -1.4849e-01, -3.0727e-01],\n",
              "        [-3.3979e-01,  2.0941e-01,  4.6348e-01, -6.4792e-01, -3.8377e-01,\n",
              "          3.8034e-02,  1.7127e-01,  1.5978e-01,  4.6619e-01, -1.9169e-02,\n",
              "          4.1479e-01, -3.4349e-01,  2.6872e-01,  4.4640e-02,  4.2131e-01,\n",
              "         -4.1032e-01,  1.5459e-01,  2.2239e-02, -6.4653e-01,  2.5256e-01,\n",
              "          4.3136e-02, -1.9445e-01,  4.6516e-01,  4.5651e-01,  6.8588e-01,\n",
              "          9.1295e-02,  2.1875e-01, -7.0351e-01,  1.6785e-01, -3.5079e-01,\n",
              "         -1.2634e-01,  6.6384e-01, -2.5820e-01,  3.6542e-02, -1.3605e-01,\n",
              "          4.0253e-01,  1.4289e-01,  3.8132e-01, -1.2283e-01, -4.5886e-01,\n",
              "         -2.5282e-01, -3.0432e-01, -1.1215e-01, -2.6182e-01, -2.2482e-01,\n",
              "         -4.4554e-01,  2.9910e-01, -8.5612e-01, -1.4503e-01, -4.9086e-01,\n",
              "          8.2973e-03, -1.7491e-01,  2.7524e-01,  1.4401e+00, -2.1239e-01,\n",
              "         -2.8435e+00, -2.7958e-01, -4.5722e-01,  1.6386e+00,  7.8808e-01,\n",
              "         -5.5262e-01,  6.5000e-01,  8.6426e-02,  3.9012e-01,  1.0632e+00,\n",
              "         -3.5379e-01,  4.8328e-01,  3.4600e-01,  8.4174e-01,  9.8707e-02,\n",
              "         -2.4213e-01, -2.7053e-01,  4.5287e-02, -4.0147e-01,  1.1395e-01,\n",
              "          6.2226e-03,  3.6673e-02,  1.8518e-02, -1.0213e+00, -2.0806e-01,\n",
              "          6.4072e-01, -6.8763e-02, -5.8635e-01,  3.3476e-01, -1.1432e+00,\n",
              "         -1.1480e-01, -2.5091e-01, -4.5907e-01, -9.6819e-02, -1.7946e-01,\n",
              "         -6.3351e-02, -6.7412e-01, -6.8895e-02,  5.3604e-01, -8.7773e-01,\n",
              "          3.1802e-01, -3.9242e-01, -2.3394e-01,  4.7298e-01, -2.8803e-02]])"
            ]
          },
          "metadata": {},
          "execution_count": 27
        }
      ]
    },
    {
      "cell_type": "code",
      "source": [
        "vectorization.get_vecs_by_tokens(tokens).shape"
      ],
      "metadata": {
        "id": "6bKOa3cfdci8",
        "outputId": "94487fef-721e-4abd-a97e-40b210c310e0",
        "colab": {
          "base_uri": "https://localhost:8080/"
        }
      },
      "id": "6bKOa3cfdci8",
      "execution_count": 28,
      "outputs": [
        {
          "output_type": "execute_result",
          "data": {
            "text/plain": [
              "torch.Size([6, 100])"
            ]
          },
          "metadata": {},
          "execution_count": 28
        }
      ]
    },
    {
      "cell_type": "markdown",
      "source": [
        "we had a sentence of \"This is a test sentence.\" that the tokenizer, tokenize it to 6 token. Also we choose the \"dim=100\" for the GloVe.\n",
        "\n",
        "So the output correctly shows the sape of vectorization [6, 100].\n"
      ],
      "metadata": {
        "id": "oqQI2Li8dhgY"
      },
      "id": "oqQI2Li8dhgY"
    },
    {
      "cell_type": "markdown",
      "source": [
        "> ## Transform"
      ],
      "metadata": {
        "id": "jZW7X2U2cxRk"
      },
      "id": "jZW7X2U2cxRk"
    },
    {
      "cell_type": "code",
      "source": [
        "import torchtext.transforms as T"
      ],
      "metadata": {
        "id": "CqpfBnfbcz2b"
      },
      "id": "CqpfBnfbcz2b",
      "execution_count": null,
      "outputs": []
    }
  ],
  "metadata": {
    "kernelspec": {
      "display_name": "PytorchCuda",
      "language": "python",
      "name": "python3"
    },
    "language_info": {
      "codemirror_mode": {
        "name": "ipython",
        "version": 3
      },
      "file_extension": ".py",
      "mimetype": "text/x-python",
      "name": "python",
      "nbconvert_exporter": "python",
      "pygments_lexer": "ipython3",
      "version": "3.11.10"
    },
    "colab": {
      "provenance": []
    }
  },
  "nbformat": 4,
  "nbformat_minor": 5
}